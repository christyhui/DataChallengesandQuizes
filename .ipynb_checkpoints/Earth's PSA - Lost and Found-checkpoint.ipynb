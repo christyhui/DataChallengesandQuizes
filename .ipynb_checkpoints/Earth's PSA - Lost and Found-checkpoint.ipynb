{
 "cells": [
  {
   "cell_type": "markdown",
   "id": "6db3891b-b2da-461a-b8f7-3afa63da9846",
   "metadata": {},
   "source": [
    "__Link to the challenge can be found [here](https://data-puzzles.com/challenges/earth-warning/).__\n",
    "\n",
    "__Link to Google collab can be found [here](https://colab.research.google.com/drive/1fSVeC1TxJDP6TykAillqPtkTl49aNPvd?usp=sharing)).__"
   ]
  },
  {
   "cell_type": "markdown",
   "id": "3602aa6b-65b8-4870-bc47-218d424fc697",
   "metadata": {},
   "source": [
    "# Intro"
   ]
  },
  {
   "cell_type": "markdown",
   "id": "17a0d417-b0d0-4879-9d8d-028ba79ed5b4",
   "metadata": {},
   "source": [
    "Here's is the message from Earth:\n",
    "'I remember that if you sort the countries (or dependencies) [Guinea, Iran, Trinidad And Tobago, Honduras, Lebanon, Ethiopia, Niger, Afghanistan, India, American Samoa, Cuba, Gabon, Nicaragua, Channel Islands, Martinique] by density of population (DESCENDING) and then only look at the first letter of each country, you'll get my message back!! Can you help me please?'\n",
    "\n",
    "To help our planet, we preloaded world population and geographical data from the website Worldometer (https://worldometers.info/). Use it to do what the earth says and decode the message!"
   ]
  },
  {
   "cell_type": "code",
   "execution_count": 19,
   "id": "4d4ee564-0cc5-4e0e-bb09-8802fa545663",
   "metadata": {},
   "outputs": [],
   "source": [
    "import pandas as pd\n",
    "\n",
    "countries = ['Guinea', 'Iran', 'Trinidad and Tobago', 'Honduras', 'Lebanon',\n",
    "             'Ethiopia', 'Niger', 'Afghanistan', 'India', 'American Samoa',\n",
    "             'Cuba', 'Gabon', 'Nicaragua', 'Channel Islands', 'Martinique']\n",
    "\n",
    "country_pop = pd.read_csv('https://raw.githubusercontent.com/hyperc54/data-puzzles-assets/master/misc/earth/population_by_country.csv')"
   ]
  },
  {
   "cell_type": "code",
   "execution_count": 21,
   "id": "686d6f10-8f78-4498-9855-32c2385a98b0",
   "metadata": {},
   "outputs": [
    {
     "data": {
      "text/html": [
       "<div>\n",
       "<style scoped>\n",
       "    .dataframe tbody tr th:only-of-type {\n",
       "        vertical-align: middle;\n",
       "    }\n",
       "\n",
       "    .dataframe tbody tr th {\n",
       "        vertical-align: top;\n",
       "    }\n",
       "\n",
       "    .dataframe thead th {\n",
       "        text-align: right;\n",
       "    }\n",
       "</style>\n",
       "<table border=\"1\" class=\"dataframe\">\n",
       "  <thead>\n",
       "    <tr style=\"text-align: right;\">\n",
       "      <th></th>\n",
       "      <th>Country (or dependency)</th>\n",
       "      <th>Population (2020)</th>\n",
       "      <th>Yearly Change</th>\n",
       "      <th>Urban Pop %</th>\n",
       "      <th>World Share</th>\n",
       "    </tr>\n",
       "  </thead>\n",
       "  <tbody>\n",
       "    <tr>\n",
       "      <th>0</th>\n",
       "      <td>China</td>\n",
       "      <td>1440297825</td>\n",
       "      <td>0.39 %</td>\n",
       "      <td>61 %</td>\n",
       "      <td>18.47 %</td>\n",
       "    </tr>\n",
       "    <tr>\n",
       "      <th>1</th>\n",
       "      <td>India</td>\n",
       "      <td>1382345085</td>\n",
       "      <td>0.99 %</td>\n",
       "      <td>35 %</td>\n",
       "      <td>17.70 %</td>\n",
       "    </tr>\n",
       "    <tr>\n",
       "      <th>2</th>\n",
       "      <td>United States</td>\n",
       "      <td>331341050</td>\n",
       "      <td>0.59 %</td>\n",
       "      <td>83 %</td>\n",
       "      <td>4.25 %</td>\n",
       "    </tr>\n",
       "    <tr>\n",
       "      <th>3</th>\n",
       "      <td>Indonesia</td>\n",
       "      <td>274021604</td>\n",
       "      <td>1.07 %</td>\n",
       "      <td>56 %</td>\n",
       "      <td>3.51 %</td>\n",
       "    </tr>\n",
       "    <tr>\n",
       "      <th>4</th>\n",
       "      <td>Pakistan</td>\n",
       "      <td>221612785</td>\n",
       "      <td>2.00 %</td>\n",
       "      <td>35 %</td>\n",
       "      <td>2.83 %</td>\n",
       "    </tr>\n",
       "  </tbody>\n",
       "</table>\n",
       "</div>"
      ],
      "text/plain": [
       "  Country (or dependency)  Population (2020) Yearly Change Urban Pop %  \\\n",
       "0                   China         1440297825        0.39 %        61 %   \n",
       "1                   India         1382345085        0.99 %        35 %   \n",
       "2           United States          331341050        0.59 %        83 %   \n",
       "3               Indonesia          274021604        1.07 %        56 %   \n",
       "4                Pakistan          221612785        2.00 %        35 %   \n",
       "\n",
       "  World Share  \n",
       "0     18.47 %  \n",
       "1     17.70 %  \n",
       "2      4.25 %  \n",
       "3      3.51 %  \n",
       "4      2.83 %  "
      ]
     },
     "execution_count": 21,
     "metadata": {},
     "output_type": "execute_result"
    }
   ],
   "source": [
    "country_pop.head()"
   ]
  },
  {
   "cell_type": "code",
   "execution_count": 23,
   "id": "a8d1bdbe-4d88-434e-99b9-51bcd9568a54",
   "metadata": {},
   "outputs": [],
   "source": [
    "country_surface = pd.read_csv('https://raw.githubusercontent.com/hyperc54/data-puzzles-assets/master/misc/earth/surface_by_country.csv')"
   ]
  },
  {
   "cell_type": "code",
   "execution_count": 25,
   "id": "1024a29e-4c59-43be-a929-8cb8e4080b9b",
   "metadata": {},
   "outputs": [
    {
     "data": {
      "text/html": [
       "<div>\n",
       "<style scoped>\n",
       "    .dataframe tbody tr th:only-of-type {\n",
       "        vertical-align: middle;\n",
       "    }\n",
       "\n",
       "    .dataframe tbody tr th {\n",
       "        vertical-align: top;\n",
       "    }\n",
       "\n",
       "    .dataframe thead th {\n",
       "        text-align: right;\n",
       "    }\n",
       "</style>\n",
       "<table border=\"1\" class=\"dataframe\">\n",
       "  <thead>\n",
       "    <tr style=\"text-align: right;\">\n",
       "      <th></th>\n",
       "      <th>Country (or dependency)</th>\n",
       "      <th>Land Area (Km²)</th>\n",
       "    </tr>\n",
       "  </thead>\n",
       "  <tbody>\n",
       "    <tr>\n",
       "      <th>0</th>\n",
       "      <td>China</td>\n",
       "      <td>9388211</td>\n",
       "    </tr>\n",
       "    <tr>\n",
       "      <th>1</th>\n",
       "      <td>India</td>\n",
       "      <td>2973190</td>\n",
       "    </tr>\n",
       "    <tr>\n",
       "      <th>2</th>\n",
       "      <td>United States</td>\n",
       "      <td>9147420</td>\n",
       "    </tr>\n",
       "    <tr>\n",
       "      <th>3</th>\n",
       "      <td>Indonesia</td>\n",
       "      <td>1811570</td>\n",
       "    </tr>\n",
       "    <tr>\n",
       "      <th>4</th>\n",
       "      <td>Pakistan</td>\n",
       "      <td>770880</td>\n",
       "    </tr>\n",
       "  </tbody>\n",
       "</table>\n",
       "</div>"
      ],
      "text/plain": [
       "  Country (or dependency)  Land Area (Km²)\n",
       "0                   China          9388211\n",
       "1                   India          2973190\n",
       "2           United States          9147420\n",
       "3               Indonesia          1811570\n",
       "4                Pakistan           770880"
      ]
     },
     "execution_count": 25,
     "metadata": {},
     "output_type": "execute_result"
    }
   ],
   "source": [
    "country_surface.head()"
   ]
  },
  {
   "cell_type": "markdown",
   "id": "a6608444-adea-46c7-ab4b-52b9288c177d",
   "metadata": {},
   "source": [
    "# Attempt"
   ]
  },
  {
   "cell_type": "code",
   "execution_count": 37,
   "id": "3d91c630-60a8-4b7a-928e-98040ee073c0",
   "metadata": {},
   "outputs": [],
   "source": [
    "merged_df = country_pop.merge(right = country_surface, on = 'Country (or dependency)')"
   ]
  },
  {
   "cell_type": "code",
   "execution_count": 39,
   "id": "7ae1b737-aebe-4b12-b044-851513133069",
   "metadata": {},
   "outputs": [
    {
     "data": {
      "text/html": [
       "<div>\n",
       "<style scoped>\n",
       "    .dataframe tbody tr th:only-of-type {\n",
       "        vertical-align: middle;\n",
       "    }\n",
       "\n",
       "    .dataframe tbody tr th {\n",
       "        vertical-align: top;\n",
       "    }\n",
       "\n",
       "    .dataframe thead th {\n",
       "        text-align: right;\n",
       "    }\n",
       "</style>\n",
       "<table border=\"1\" class=\"dataframe\">\n",
       "  <thead>\n",
       "    <tr style=\"text-align: right;\">\n",
       "      <th></th>\n",
       "      <th>Country (or dependency)</th>\n",
       "      <th>Population (2020)</th>\n",
       "      <th>Yearly Change</th>\n",
       "      <th>Urban Pop %</th>\n",
       "      <th>World Share</th>\n",
       "      <th>Land Area (Km²)</th>\n",
       "    </tr>\n",
       "  </thead>\n",
       "  <tbody>\n",
       "    <tr>\n",
       "      <th>0</th>\n",
       "      <td>China</td>\n",
       "      <td>1440297825</td>\n",
       "      <td>0.39 %</td>\n",
       "      <td>61 %</td>\n",
       "      <td>18.47 %</td>\n",
       "      <td>9388211</td>\n",
       "    </tr>\n",
       "    <tr>\n",
       "      <th>1</th>\n",
       "      <td>India</td>\n",
       "      <td>1382345085</td>\n",
       "      <td>0.99 %</td>\n",
       "      <td>35 %</td>\n",
       "      <td>17.70 %</td>\n",
       "      <td>2973190</td>\n",
       "    </tr>\n",
       "    <tr>\n",
       "      <th>2</th>\n",
       "      <td>United States</td>\n",
       "      <td>331341050</td>\n",
       "      <td>0.59 %</td>\n",
       "      <td>83 %</td>\n",
       "      <td>4.25 %</td>\n",
       "      <td>9147420</td>\n",
       "    </tr>\n",
       "    <tr>\n",
       "      <th>3</th>\n",
       "      <td>Indonesia</td>\n",
       "      <td>274021604</td>\n",
       "      <td>1.07 %</td>\n",
       "      <td>56 %</td>\n",
       "      <td>3.51 %</td>\n",
       "      <td>1811570</td>\n",
       "    </tr>\n",
       "    <tr>\n",
       "      <th>4</th>\n",
       "      <td>Pakistan</td>\n",
       "      <td>221612785</td>\n",
       "      <td>2.00 %</td>\n",
       "      <td>35 %</td>\n",
       "      <td>2.83 %</td>\n",
       "      <td>770880</td>\n",
       "    </tr>\n",
       "  </tbody>\n",
       "</table>\n",
       "</div>"
      ],
      "text/plain": [
       "  Country (or dependency)  Population (2020) Yearly Change Urban Pop %  \\\n",
       "0                   China         1440297825        0.39 %        61 %   \n",
       "1                   India         1382345085        0.99 %        35 %   \n",
       "2           United States          331341050        0.59 %        83 %   \n",
       "3               Indonesia          274021604        1.07 %        56 %   \n",
       "4                Pakistan          221612785        2.00 %        35 %   \n",
       "\n",
       "  World Share  Land Area (Km²)  \n",
       "0     18.47 %          9388211  \n",
       "1     17.70 %          2973190  \n",
       "2      4.25 %          9147420  \n",
       "3      3.51 %          1811570  \n",
       "4      2.83 %           770880  "
      ]
     },
     "execution_count": 39,
     "metadata": {},
     "output_type": "execute_result"
    }
   ],
   "source": [
    "merged_df.head()"
   ]
  },
  {
   "cell_type": "code",
   "execution_count": 57,
   "id": "05758440-f197-40aa-bd7c-b6fcae1ae756",
   "metadata": {},
   "outputs": [],
   "source": [
    "merged_df = merged_df[merged_df['Country (or dependency)'].isin(countries)]"
   ]
  },
  {
   "cell_type": "code",
   "execution_count": 59,
   "id": "d0e7558a-d84c-46db-b25b-a652c5149c82",
   "metadata": {},
   "outputs": [
    {
     "name": "stderr",
     "output_type": "stream",
     "text": [
      "C:\\Users\\Chris\\AppData\\Local\\Temp\\ipykernel_19164\\909034864.py:1: SettingWithCopyWarning: \n",
      "A value is trying to be set on a copy of a slice from a DataFrame.\n",
      "Try using .loc[row_indexer,col_indexer] = value instead\n",
      "\n",
      "See the caveats in the documentation: https://pandas.pydata.org/pandas-docs/stable/user_guide/indexing.html#returning-a-view-versus-a-copy\n",
      "  merged_df['PopDensity'] = merged_df.iloc[:, 1] / merged_df.iloc[:, 5]\n"
     ]
    }
   ],
   "source": [
    "merged_df['PopDensity'] = merged_df.iloc[:, 1] / merged_df.iloc[:, 5]"
   ]
  },
  {
   "cell_type": "code",
   "execution_count": 69,
   "id": "fcc2f0e2-3497-4d59-a873-6845b14ac65c",
   "metadata": {},
   "outputs": [
    {
     "data": {
      "text/plain": [
       "['C', 'L', 'I', 'M', 'A', 'T', 'E', 'C', 'H', 'A', 'N', 'G', 'I', 'N', 'G']"
      ]
     },
     "execution_count": 69,
     "metadata": {},
     "output_type": "execute_result"
    }
   ],
   "source": [
    "merged_df.sort_values(by = 'PopDensity', ascending = False)['Country (or dependency)'].str[0].tolist()"
   ]
  },
  {
   "cell_type": "markdown",
   "id": "77a5fdb5-f455-481f-a740-fd4fb05c0c82",
   "metadata": {},
   "source": [
    "The hidden message is climate changing."
   ]
  }
 ],
 "metadata": {
  "kernelspec": {
   "display_name": "Python [conda env:base] *",
   "language": "python",
   "name": "conda-base-py"
  },
  "language_info": {
   "codemirror_mode": {
    "name": "ipython",
    "version": 3
   },
   "file_extension": ".py",
   "mimetype": "text/x-python",
   "name": "python",
   "nbconvert_exporter": "python",
   "pygments_lexer": "ipython3",
   "version": "3.12.7"
  }
 },
 "nbformat": 4,
 "nbformat_minor": 5
}
