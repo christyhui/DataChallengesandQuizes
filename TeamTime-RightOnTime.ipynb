{
 "cells": [
  {
   "cell_type": "markdown",
   "id": "4b6649de-76cc-4bb6-8e4f-23d954802a3c",
   "metadata": {},
   "source": [
    "**Link to the challenge can be found [here](https://data-puzzles.com/challenges/right-on-time/).**\n",
    "\n",
    "**Link to the Google collab can be found [here](https://colab.research.google.com/drive/1-oikE3WLLW9Kev4cfoUyyVbNCM361uF2?usp=sharing).**"
   ]
  },
  {
   "cell_type": "markdown",
   "id": "675acb77-d78c-46d6-8793-f8688a59c364",
   "metadata": {},
   "source": [
    "# Intro"
   ]
  },
  {
   "cell_type": "markdown",
   "id": "1928fe31-4802-4650-b488-b665f858f3fc",
   "metadata": {},
   "source": [
    "A few friends and I are playing a game at 6pm. I know they often arrive late, and I really don't want to be late.\n",
    "\n",
    "I actually looked at historical data, and found out my friends arrival time can be described as random variable that follows a normal distribution of parameter mean = 'appointment time' amd std_dev = 10 min.\n",
    "\n",
    "I need to set the appointment so that Im at least 99% confident all my friends will be there by 6pm. Can you figure out the latest appointment time that would check that criteria? Thanks!!"
   ]
  },
  {
   "cell_type": "code",
   "execution_count": 8,
   "id": "9b8030e8-3728-447a-b5e6-1d7546e9dcb1",
   "metadata": {},
   "outputs": [],
   "source": [
    "game_time = 18 * 60 # 6pm in number of minutes from midnight\n",
    "n_friends = 4\n",
    "std_dev_arrival_time_min = 10\n",
    "# ... and that's all!\n",
    "# right_appointment_time = ?"
   ]
  },
  {
   "cell_type": "markdown",
   "id": "2354bc76-c377-45d3-9c05-a4d28057aded",
   "metadata": {},
   "source": [
    "# Attempt"
   ]
  },
  {
   "cell_type": "code",
   "execution_count": 11,
   "id": "2372b294-cdc2-4775-bacd-6984a1801ac9",
   "metadata": {},
   "outputs": [],
   "source": [
    "import numpy as np"
   ]
  },
  {
   "cell_type": "code",
   "execution_count": 107,
   "id": "bb6258d4-c0a3-4087-8759-385a5cc88eb9",
   "metadata": {},
   "outputs": [],
   "source": [
    "def simulate_events(n_friends = 4, mean = 0, std_dev_arrival_time_min = 10, n_sim = 10000):\n",
    "\n",
    "    late_times = np.array([None] * n_sim)\n",
    "    for n in range(n_sim):  \n",
    "        one_night = np.array([None] * n_friends)\n",
    "        for m in range(n_friends):\n",
    "            one_night[m] = np.random.normal(loc = mean, scale = std_dev_arrival_time_min)\n",
    "        late_times[n] = np.max(one_night)\n",
    "            \n",
    "    return late_times\n",
    "    \n",
    "    # alternatively in short form:\n",
    "    # return np.array([np.max([np.random.normal(loc = mean, scale = std_dev_arrival_time_min) for _ in range(n_friends)]) for _ in range(n_sim)])"
   ]
  },
  {
   "cell_type": "code",
   "execution_count": 191,
   "id": "dfa2d3a3-4649-459d-8e64-5f8106007a57",
   "metadata": {},
   "outputs": [],
   "source": [
    "np.random.seed(42)"
   ]
  },
  {
   "cell_type": "code",
   "execution_count": 193,
   "id": "907ff909-1d4c-46a6-b0ee-b6dfe90dca22",
   "metadata": {},
   "outputs": [],
   "source": [
    "events = simulate_events()"
   ]
  },
  {
   "cell_type": "code",
   "execution_count": 216,
   "id": "0c297338-50fb-4e2e-a7f5-71d7ff4ff6a3",
   "metadata": {},
   "outputs": [
    {
     "data": {
      "text/plain": [
       "27.923005091272135"
      ]
     },
     "execution_count": 216,
     "metadata": {},
     "output_type": "execute_result"
    }
   ],
   "source": [
    "np.percentile(events, 99)"
   ]
  },
  {
   "cell_type": "markdown",
   "id": "207915d6-a9d8-466d-a530-82d3ff65d274",
   "metadata": {},
   "source": [
    "According to this one simulation, you will be 99% confident people will be arrive if you set the appointment time 28 minutes before 6pm."
   ]
  },
  {
   "cell_type": "markdown",
   "id": "5a9237b8-4539-42f1-abcf-e40af155a3ca",
   "metadata": {},
   "source": [
    "To be very sure, you can simulate many other events of events and find the mean of the 99th percentile."
   ]
  },
  {
   "cell_type": "code",
   "execution_count": 212,
   "id": "c2e9382a-b1f7-40e9-aacb-a6089af1e377",
   "metadata": {},
   "outputs": [],
   "source": [
    "def simulate_many_events(events = simulate_events(), conf_level = 99, n_sims = 100):\n",
    "    return np.mean([np.percentile(simulate_events(), conf_level) for _ in range(n_sims)])"
   ]
  },
  {
   "cell_type": "code",
   "execution_count": 214,
   "id": "b8f7f759-7918-46b7-bbf0-babe0f4908ed",
   "metadata": {},
   "outputs": [
    {
     "data": {
      "text/plain": [
       "28.03465246539742"
      ]
     },
     "execution_count": 214,
     "metadata": {},
     "output_type": "execute_result"
    }
   ],
   "source": [
    "simulate_many_events()"
   ]
  },
  {
   "cell_type": "markdown",
   "id": "6bdecbee-8f29-40ee-a448-d966b4d92724",
   "metadata": {},
   "source": [
    "The answer is very similar (28); as such, we can be confident that the appointment time should be set 28 minutes before 6pm (at 5:32pm)."
   ]
  }
 ],
 "metadata": {
  "kernelspec": {
   "display_name": "Python [conda env:base] *",
   "language": "python",
   "name": "conda-base-py"
  },
  "language_info": {
   "codemirror_mode": {
    "name": "ipython",
    "version": 3
   },
   "file_extension": ".py",
   "mimetype": "text/x-python",
   "name": "python",
   "nbconvert_exporter": "python",
   "pygments_lexer": "ipython3",
   "version": "3.12.7"
  }
 },
 "nbformat": 4,
 "nbformat_minor": 5
}
