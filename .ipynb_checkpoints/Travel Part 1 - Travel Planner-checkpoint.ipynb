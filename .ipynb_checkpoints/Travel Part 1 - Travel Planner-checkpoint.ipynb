{
 "cells": [
  {
   "cell_type": "markdown",
   "id": "10cc5e67-d3bc-4d8e-8006-84e92fab566f",
   "metadata": {},
   "source": [
    "**Link to the challenge can be found [here](https://data-puzzles.com/challenges/travel-planner/)**\n",
    "\n",
    "**Link to the Google collabe can be found [here](https://colab.research.google.com/drive/13Khr_Z7Der_bf4rpNInldQwtYMln51YC?usp=sharing)**"
   ]
  },
  {
   "cell_type": "markdown",
   "id": "0e7592af-c6c7-4fc9-8a3f-27de3bb48ac5",
   "metadata": {},
   "source": [
    "## Geodesics\n",
    "* Let's plan our next trip together! \n",
    "* For this purpose, we have gathered a list of all the world's capital cities according to https://simplemaps.com/data/world-cities"
   ]
  },
  {
   "cell_type": "markdown",
   "id": "c88e0982-8f0d-4dbf-8e3a-e21f3c24c5ab",
   "metadata": {},
   "source": [
    "Prerequisites:\n",
    "* Basic geometry and geography knowledge.\n",
    "* A bit of programming experience to transform data and think of a solution. "
   ]
  },
  {
   "cell_type": "markdown",
   "id": "5c3f7c64-e502-4df8-b558-e9f8d7a00106",
   "metadata": {},
   "source": [
    "# Part 1: Can you get the two furthest capitals on Earth? (sea level)"
   ]
  },
  {
   "cell_type": "code",
   "execution_count": 5,
   "id": "fae86e7e-e7e0-4977-8f2e-83235e1e80a1",
   "metadata": {},
   "outputs": [],
   "source": [
    "import numpy as np\n",
    "import pandas as pd\n",
    "from geopy import distance"
   ]
  },
  {
   "cell_type": "code",
   "execution_count": 6,
   "id": "73a44668-607a-4c85-8812-0616f907a0a1",
   "metadata": {},
   "outputs": [],
   "source": [
    "capitals_df = pd.read_csv('https://raw.githubusercontent.com/hyperc54/data-puzzles-assets/master/features/travel/worldcapitals_light.csv')"
   ]
  },
  {
   "cell_type": "code",
   "execution_count": 7,
   "id": "15ad0b54-e5ca-4d37-a3fc-52f82b39ca29",
   "metadata": {},
   "outputs": [
    {
     "data": {
      "text/html": [
       "<div>\n",
       "<style scoped>\n",
       "    .dataframe tbody tr th:only-of-type {\n",
       "        vertical-align: middle;\n",
       "    }\n",
       "\n",
       "    .dataframe tbody tr th {\n",
       "        vertical-align: top;\n",
       "    }\n",
       "\n",
       "    .dataframe thead th {\n",
       "        text-align: right;\n",
       "    }\n",
       "</style>\n",
       "<table border=\"1\" class=\"dataframe\">\n",
       "  <thead>\n",
       "    <tr style=\"text-align: right;\">\n",
       "      <th></th>\n",
       "      <th>city</th>\n",
       "      <th>lat</th>\n",
       "      <th>lng</th>\n",
       "    </tr>\n",
       "  </thead>\n",
       "  <tbody>\n",
       "    <tr>\n",
       "      <th>0</th>\n",
       "      <td>Tokyo</td>\n",
       "      <td>35.6839</td>\n",
       "      <td>139.7744</td>\n",
       "    </tr>\n",
       "    <tr>\n",
       "      <th>1</th>\n",
       "      <td>Jakarta</td>\n",
       "      <td>-6.2146</td>\n",
       "      <td>106.8451</td>\n",
       "    </tr>\n",
       "    <tr>\n",
       "      <th>2</th>\n",
       "      <td>Manila</td>\n",
       "      <td>14.6000</td>\n",
       "      <td>120.9833</td>\n",
       "    </tr>\n",
       "    <tr>\n",
       "      <th>3</th>\n",
       "      <td>Seoul</td>\n",
       "      <td>37.5600</td>\n",
       "      <td>126.9900</td>\n",
       "    </tr>\n",
       "    <tr>\n",
       "      <th>4</th>\n",
       "      <td>Mexico City</td>\n",
       "      <td>19.4333</td>\n",
       "      <td>-99.1333</td>\n",
       "    </tr>\n",
       "  </tbody>\n",
       "</table>\n",
       "</div>"
      ],
      "text/plain": [
       "          city      lat       lng\n",
       "0        Tokyo  35.6839  139.7744\n",
       "1      Jakarta  -6.2146  106.8451\n",
       "2       Manila  14.6000  120.9833\n",
       "3        Seoul  37.5600  126.9900\n",
       "4  Mexico City  19.4333  -99.1333"
      ]
     },
     "execution_count": 7,
     "metadata": {},
     "output_type": "execute_result"
    }
   ],
   "source": [
    "capitals_df.head()"
   ]
  },
  {
   "cell_type": "markdown",
   "id": "fbba8cb1-74d7-4a94-a91a-c0c4216c2f05",
   "metadata": {},
   "source": [
    "# Attempt"
   ]
  },
  {
   "cell_type": "code",
   "execution_count": 9,
   "id": "4e6b775a-3474-4541-9152-16fc2e7fca5e",
   "metadata": {},
   "outputs": [],
   "source": [
    "dist = np.empty([capitals_df.shape[0], capitals_df.shape[0]])"
   ]
  },
  {
   "cell_type": "code",
   "execution_count": 16,
   "id": "1e0e6b97-9991-44b3-b153-0055b23ea6be",
   "metadata": {},
   "outputs": [],
   "source": [
    "for i in range(capitals_df.shape[0]):\n",
    "    city_i_lat_long_pair = ( capitals_df.loc[i]['lat'], capitals_df.loc[i]['lng'] )\n",
    "    for j in range(capitals_df.shape[0]):\n",
    "        city_j_lat_long_pair = ( capitals_df.loc[j]['lat'], capitals_df.loc[j]['lng'] )\n",
    "\n",
    "        dist[i][j] = distance.distance(city_i_lat_long_pair, city_j_lat_long_pair).km"
   ]
  },
  {
   "cell_type": "code",
   "execution_count": 28,
   "id": "57befe99-d5f2-495b-b123-4a7722a338e1",
   "metadata": {},
   "outputs": [
    {
     "data": {
      "text/plain": [
       "19865.475389507876"
      ]
     },
     "execution_count": 28,
     "metadata": {},
     "output_type": "execute_result"
    }
   ],
   "source": [
    "np.max(dist)"
   ]
  },
  {
   "cell_type": "code",
   "execution_count": 17,
   "id": "62e0a048-536b-48d4-a8fc-42b6e80c89c8",
   "metadata": {},
   "outputs": [],
   "source": [
    "max_dist = np.where(dist == np.max(dist))"
   ]
  },
  {
   "cell_type": "code",
   "execution_count": 18,
   "id": "af2bc779-be8a-470f-878d-bf13bfb43ff0",
   "metadata": {},
   "outputs": [],
   "source": [
    "max_i = max_dist[0][0]\n",
    "max_j = max_dist[0][1]"
   ]
  },
  {
   "cell_type": "code",
   "execution_count": 19,
   "id": "3d9a7d04-2836-4933-9723-f92ae5da4a73",
   "metadata": {},
   "outputs": [
    {
     "data": {
      "text/plain": [
       "'Doha'"
      ]
     },
     "execution_count": 19,
     "metadata": {},
     "output_type": "execute_result"
    }
   ],
   "source": [
    "capitals_df.city[max_i]"
   ]
  },
  {
   "cell_type": "code",
   "execution_count": 20,
   "id": "16af31d8-5065-4bc0-9129-5b6e0a8b6f4c",
   "metadata": {},
   "outputs": [
    {
     "data": {
      "text/plain": [
       "'Adamstown'"
      ]
     },
     "execution_count": 20,
     "metadata": {},
     "output_type": "execute_result"
    }
   ],
   "source": [
    "capitals_df.city[max_j]"
   ]
  },
  {
   "cell_type": "markdown",
   "id": "81d5c211-a640-4faf-b5b1-adec48d97698",
   "metadata": {},
   "source": [
    "The largest distance between two capital cities is 19865.48 kilometers between Doha and Adamstown"
   ]
  }
 ],
 "metadata": {
  "kernelspec": {
   "display_name": "Python [conda env:base] *",
   "language": "python",
   "name": "conda-base-py"
  },
  "language_info": {
   "codemirror_mode": {
    "name": "ipython",
    "version": 3
   },
   "file_extension": ".py",
   "mimetype": "text/x-python",
   "name": "python",
   "nbconvert_exporter": "python",
   "pygments_lexer": "ipython3",
   "version": "3.12.7"
  }
 },
 "nbformat": 4,
 "nbformat_minor": 5
}
